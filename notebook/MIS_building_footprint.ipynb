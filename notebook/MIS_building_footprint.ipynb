{
  "nbformat": 4,
  "nbformat_minor": 0,
  "metadata": {
    "colab": {
      "provenance": [],
      "gpuType": "T4"
    },
    "kernelspec": {
      "name": "python3",
      "display_name": "Python 3"
    },
    "language_info": {
      "name": "python"
    },
    "accelerator": "GPU"
  },
  "cells": [
    {
      "cell_type": "code",
      "execution_count": 6,
      "metadata": {
        "colab": {
          "base_uri": "https://localhost:8080/"
        },
        "id": "YdhJwIdPQhEz",
        "outputId": "ec44c7bd-4d95-49cf-af28-06c23e83ffbc"
      },
      "outputs": [
        {
          "output_type": "stream",
          "name": "stdout",
          "text": [
            "/content/drive/MyDrive/mis\n"
          ]
        }
      ],
      "source": [
        "# cd into ws\n",
        "%cd  ./building_footprint_detection"
      ]
    },
    {
      "cell_type": "code",
      "source": [
        "!pip install opencv-python matplotlib\n",
        "!pip install 'git+https://github.com/facebookresearch/segment-anything.git'\n",
        "!pip install geojson"
      ],
      "metadata": {
        "colab": {
          "base_uri": "https://localhost:8080/"
        },
        "id": "x9JfzGoIRXJN",
        "outputId": "5fc06e63-caa8-4aee-ebb7-ee7ffce84690"
      },
      "execution_count": 7,
      "outputs": [
        {
          "output_type": "stream",
          "name": "stdout",
          "text": [
            "Requirement already satisfied: opencv-python in /usr/local/lib/python3.10/dist-packages (4.8.0.76)\n",
            "Requirement already satisfied: matplotlib in /usr/local/lib/python3.10/dist-packages (3.7.1)\n",
            "Requirement already satisfied: numpy>=1.21.2 in /usr/local/lib/python3.10/dist-packages (from opencv-python) (1.23.5)\n",
            "Requirement already satisfied: contourpy>=1.0.1 in /usr/local/lib/python3.10/dist-packages (from matplotlib) (1.2.0)\n",
            "Requirement already satisfied: cycler>=0.10 in /usr/local/lib/python3.10/dist-packages (from matplotlib) (0.12.1)\n",
            "Requirement already satisfied: fonttools>=4.22.0 in /usr/local/lib/python3.10/dist-packages (from matplotlib) (4.44.0)\n",
            "Requirement already satisfied: kiwisolver>=1.0.1 in /usr/local/lib/python3.10/dist-packages (from matplotlib) (1.4.5)\n",
            "Requirement already satisfied: packaging>=20.0 in /usr/local/lib/python3.10/dist-packages (from matplotlib) (23.2)\n",
            "Requirement already satisfied: pillow>=6.2.0 in /usr/local/lib/python3.10/dist-packages (from matplotlib) (9.4.0)\n",
            "Requirement already satisfied: pyparsing>=2.3.1 in /usr/local/lib/python3.10/dist-packages (from matplotlib) (3.1.1)\n",
            "Requirement already satisfied: python-dateutil>=2.7 in /usr/local/lib/python3.10/dist-packages (from matplotlib) (2.8.2)\n",
            "Requirement already satisfied: six>=1.5 in /usr/local/lib/python3.10/dist-packages (from python-dateutil>=2.7->matplotlib) (1.16.0)\n",
            "Collecting git+https://github.com/facebookresearch/segment-anything.git\n",
            "  Cloning https://github.com/facebookresearch/segment-anything.git to /tmp/pip-req-build-91yu4aqb\n",
            "  Running command git clone --filter=blob:none --quiet https://github.com/facebookresearch/segment-anything.git /tmp/pip-req-build-91yu4aqb\n",
            "  Resolved https://github.com/facebookresearch/segment-anything.git to commit 6fdee8f2727f4506cfbbe553e23b895e27956588\n",
            "  Preparing metadata (setup.py) ... \u001b[?25l\u001b[?25hdone\n",
            "Collecting geojson\n",
            "  Downloading geojson-3.1.0-py3-none-any.whl (15 kB)\n",
            "Installing collected packages: geojson\n",
            "Successfully installed geojson-3.1.0\n"
          ]
        }
      ]
    },
    {
      "cell_type": "code",
      "source": [
        "# Download the default trained model:\n",
        "# https://dl.fbaipublicfiles.com/segment_anything/sam_vit_h_4b8939.pth"
      ],
      "metadata": {
        "id": "-TPG-mY5VaxB"
      },
      "execution_count": 10,
      "outputs": []
    },
    {
      "cell_type": "code",
      "source": [
        "import torch\n",
        "import torchvision\n",
        "print(\"PyTorch version:\", torch.__version__)\n",
        "print(\"Torchvision version:\", torchvision.__version__)\n",
        "print(\"CUDA is available:\", torch.cuda.is_available())"
      ],
      "metadata": {
        "colab": {
          "base_uri": "https://localhost:8080/"
        },
        "id": "-j53T2LcRyN5",
        "outputId": "2fc54d0d-06de-4688-b1c5-24ce56b59e1f"
      },
      "execution_count": 8,
      "outputs": [
        {
          "output_type": "stream",
          "name": "stdout",
          "text": [
            "PyTorch version: 2.1.0+cu118\n",
            "Torchvision version: 0.16.0+cu118\n",
            "CUDA is available: False\n"
          ]
        }
      ]
    },
    {
      "cell_type": "code",
      "source": [
        "import glob\n",
        "import cv2\n",
        "import sys\n",
        "import matplotlib.pyplot as plt\n",
        "from preprocessing import preprocess_image\n",
        "sys.path.append(\"..\")\n",
        "from segment_anything import sam_model_registry, SamAutomaticMaskGenerator, SamPredictor\n",
        "from postprocessing import mask_to_polygon, draw_polygons_on_image, show_annotations, write_polygons_to_geojson"
      ],
      "metadata": {
        "id": "CrFpe5e-R4V2"
      },
      "execution_count": 12,
      "outputs": []
    },
    {
      "cell_type": "code",
      "source": [
        "# Import satellite or aerial images from the designated data directory\n",
        "aerial_images = glob.glob(\"./data/*\")"
      ],
      "metadata": {
        "id": "GXEo8cTfVioU"
      },
      "execution_count": 13,
      "outputs": []
    },
    {
      "cell_type": "code",
      "source": [
        "# Load segment anything (SAM) model\n",
        "sam_checkpoint = \"sam_vit_h_4b8939.pth\"\n",
        "model_type = \"vit_h\"\n",
        "\n",
        "device = \"cuda\"\n",
        "\n",
        "sam = sam_model_registry[model_type](checkpoint=sam_checkpoint)\n",
        "sam.to(device=device)"
      ],
      "metadata": {
        "id": "l5RkRJbJbyIc"
      },
      "execution_count": null,
      "outputs": []
    },
    {
      "cell_type": "code",
      "source": [
        "# Segment major features in aerial image\n",
        "mask_generator_ = SamAutomaticMaskGenerator(\n",
        "    model=sam,\n",
        "    points_per_side=32,\n",
        "    pred_iou_thresh=0.9,\n",
        "    stability_score_thresh=0.96,\n",
        "    crop_n_layers=1,\n",
        "    crop_n_points_downscale_factor=2,\n",
        "    min_mask_region_area=100,  # Requires open-cv to run post-processing\n",
        ")\n",
        "\n",
        "image = preprocess_image(aerial_images[0])\n",
        "masks = mask_generator_.generate(image)"
      ],
      "metadata": {
        "id": "YR5P_bvqVrjZ"
      },
      "execution_count": null,
      "outputs": []
    },
    {
      "cell_type": "code",
      "source": [
        "# Show SAM result\n",
        "plt.figure(figsize=(10, 10))\n",
        "plt.imshow(image)\n",
        "show_annotations(masks)\n",
        "plt.axis('off')\n",
        "plt.show()"
      ],
      "metadata": {
        "id": "4JxSXvAZV8nI"
      },
      "execution_count": null,
      "outputs": []
    },
    {
      "cell_type": "code",
      "source": [
        "# Get all segmentations and create a polygon list\n",
        "segmentations = [m[\"segmentation\"] for m in masks]\n",
        "polygons = []\n",
        "\n",
        "for seg in segmentations:\n",
        "    # Convert the mask to a polygon\n",
        "    polygon = mask_to_polygon(seg)\n",
        "    if polygon:\n",
        "        polygons.append(polygon)"
      ],
      "metadata": {
        "id": "812wztSDWKWv"
      },
      "execution_count": null,
      "outputs": []
    },
    {
      "cell_type": "code",
      "source": [
        "# Draw the polygons on the image\n",
        "result_image = draw_polygons_on_image(image, polygons)\n",
        "\n",
        "# Display the original image and the image with the drawn polygons\n",
        "plt.figure(figsize=(10, 5))\n",
        "plt.subplot(1, 2, 1), plt.imshow(cv2.cvtColor(image, cv2.COLOR_BGR2RGB)), plt.title('Original Image')\n",
        "plt.subplot(1, 2, 2), plt.imshow(cv2.cvtColor(result_image, cv2.COLOR_BGR2RGB)), plt.title('Image with Polygons')\n",
        "plt.show()"
      ],
      "metadata": {
        "id": "_ENHv7WqWOqi"
      },
      "execution_count": null,
      "outputs": []
    },
    {
      "cell_type": "code",
      "source": [
        "# Specify the output GeoJSON file path\n",
        "output_geojson_file = \"file.geojson\"\n",
        "\n",
        "# Write the list of polygons to the GeoJSON file\n",
        "write_polygons_to_geojson(polygons, output_geojson_file)"
      ],
      "metadata": {
        "id": "naSKaXwMWQql"
      },
      "execution_count": null,
      "outputs": []
    }
  ]
}